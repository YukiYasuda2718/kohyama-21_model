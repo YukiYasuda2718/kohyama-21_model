{
 "cells": [
  {
   "cell_type": "code",
   "execution_count": null,
   "id": "31f5a7cf-f78d-46e7-a12f-1b04606e224e",
   "metadata": {},
   "outputs": [],
   "source": [
    "%load_ext autoreload\n",
    "%autoreload 2\n",
    "%matplotlib inline"
   ]
  },
  {
   "cell_type": "code",
   "execution_count": null,
   "id": "45fa5ab5-7781-4957-a52c-48e52bf1be0c",
   "metadata": {},
   "outputs": [],
   "source": [
    "import sys\n",
    "from logging import INFO, StreamHandler, getLogger\n",
    "\n",
    "logger = getLogger()\n",
    "if not logger.hasHandlers():\n",
    "    logger.addHandler(StreamHandler(sys.stdout))\n",
    "logger.setLevel(INFO)"
   ]
  },
  {
   "cell_type": "markdown",
   "id": "d0886ae5-6086-4760-9469-c5bc42403f7d",
   "metadata": {},
   "source": [
    "# Import"
   ]
  },
  {
   "cell_type": "code",
   "execution_count": null,
   "id": "4bf9e439-bfd2-4d02-a1f9-8a90ba32611f",
   "metadata": {},
   "outputs": [],
   "source": [
    "import copy\n",
    "import os\n",
    "import pathlib\n",
    "\n",
    "import matplotlib.pyplot as plt\n",
    "import numpy as np\n",
    "from src.config import Kohyama21ModelConfig\n",
    "from src.model import Kohyama21Model\n",
    "from src.random_seed_helper import set_all_seeds\n",
    "\n",
    "plt.rcParams[\"font.family\"] = \"serif\""
   ]
  },
  {
   "cell_type": "markdown",
   "id": "13a34b4e-e351-491b-a70c-494225073553",
   "metadata": {},
   "source": [
    "# Define constants"
   ]
  },
  {
   "cell_type": "code",
   "execution_count": null,
   "id": "3093e96a-d4f3-4d5a-8191-b21f2d94391e",
   "metadata": {},
   "outputs": [],
   "source": [
    "ROOT_DIR = str((pathlib.Path(os.environ[\"PYTHONPATH\"]) / \"..\").resolve())"
   ]
  },
  {
   "cell_type": "markdown",
   "id": "a6080c77-6ff1-4152-a2e5-c1917a80b839",
   "metadata": {},
   "source": [
    "# Define methods"
   ]
  },
  {
   "cell_type": "code",
   "execution_count": null,
   "id": "9a51d690-b74a-46ae-bac8-e8b161014aed",
   "metadata": {},
   "outputs": [],
   "source": [
    "def calculate_lag_corr(\n",
    "    x1: np.ndarray, x2: np.ndarray, nlag: int\n",
    ") -> tuple[np.ndarray, np.ndarray]:\n",
    "    #\n",
    "    assert x1.shape == x2.shape\n",
    "    assert x1.ndim == 1\n",
    "    assert nlag > 0.0 and isinstance(nlag, int)\n",
    "\n",
    "    lags = np.arange(-nlag, nlag + 1, 1)\n",
    "    ntime = len(x1)\n",
    "    cors = np.zeros((2 * nlag + 1))\n",
    "\n",
    "    for ilag in range(0, nlag + 1):\n",
    "        x1_tmp = x1[0 : ntime - ilag]\n",
    "        x2_tmp = x2[ilag:ntime]\n",
    "        assert len(x1_tmp) == len(x2_tmp)\n",
    "        cors[nlag - ilag] = np.corrcoef(x1_tmp, x2_tmp)[0, 1]\n",
    "\n",
    "        if ilag == 0:\n",
    "            continue\n",
    "\n",
    "        x1_tmp = x1[ilag:ntime]\n",
    "        x2_tmp = x2[0 : ntime - ilag]\n",
    "        assert len(x1_tmp) == len(x2_tmp)\n",
    "        cors[nlag + ilag] = np.corrcoef(x1_tmp, x2_tmp)[0, 1]\n",
    "\n",
    "    return lags, cors"
   ]
  },
  {
   "cell_type": "markdown",
   "id": "3d05268a-23fc-4f86-91d7-9acf0164337c",
   "metadata": {},
   "source": [
    "# Make config"
   ]
  },
  {
   "cell_type": "code",
   "execution_count": null,
   "id": "9171a5ef-2e16-47a6-8b71-15f0e2a0cff4",
   "metadata": {},
   "outputs": [],
   "source": [
    "# Configuration used in Kohyama et al. (2021).\n",
    "# https://www.science.org/doi/full/10.1126/science.abh3295\n",
    "\n",
    "config = Kohyama21ModelConfig(\n",
    "    tmax_year=1000.0,\n",
    "    dt_year=1.0 / 24.0,\n",
    "    istep_out=2,\n",
    "    ny=101,\n",
    "    Lx_1=8.25e6,\n",
    "    Lx_2=4.95e6,\n",
    "    H_1=300.0,\n",
    "    H_2=300.0,\n",
    "    R_1=5.0e4,\n",
    "    R_2=5.0e4,\n",
    "    delta_1=1.0e5,\n",
    "    delta_2=1.0e5,\n",
    "    Lx=2.75e7,\n",
    "    Ly=1.0e7,\n",
    "    D_a=1e4,\n",
    "    lamd=50.0,\n",
    "    rho_a=1.25,\n",
    "    rho_w=1e3,\n",
    "    C_pa=1e3,\n",
    "    C_pw=4e3,\n",
    "    nu_a=5e-7,\n",
    "    eps=1e3,\n",
    "    B=2.5,\n",
    "    F=125.0,\n",
    "    S_a=5e-3,\n",
    "    f_0=1e-4,\n",
    "    beta=2e-11,\n",
    "    d_l=5822.785,\n",
    "    amp_noise=5.0,\n",
    "    amp_noise_theta_1=9.0,\n",
    "    amp_noise_theta_2=9.0,\n",
    ")\n",
    "\n",
    "config.save(\"KO21.yml\")\n",
    "_config = Kohyama21ModelConfig.load(\"KO21.yml\")\n",
    "assert config.__dict__ == _config.__dict__"
   ]
  },
  {
   "cell_type": "code",
   "execution_count": null,
   "id": "7131b81a-fb9c-428f-8412-27a074b14f24",
   "metadata": {},
   "outputs": [],
   "source": [
    "# Configuration used in Gallego and Cessi (2001)\n",
    "# https://doi.org/10.1175/1520-0442(2001)014%3C2815:DVOTOA%3E2.0.CO;2\n",
    "\n",
    "config = Kohyama21ModelConfig(\n",
    "    tmax_year=1000.0,\n",
    "    dt_year=1.0 / 24.0,\n",
    "    istep_out=2,\n",
    "    ny=101,\n",
    "    Lx_1=8.25e6,\n",
    "    Lx_2=4.95e6,\n",
    "    H_1=1000.0,\n",
    "    H_2=1000.0,\n",
    "    R_1=2.8e4,\n",
    "    R_2=2.8e4,\n",
    "    delta_1=5.2e3,\n",
    "    delta_2=5.2e3,\n",
    "    Lx=2.75e7,\n",
    "    Ly=1.0e7,\n",
    "    D_a=1e4,\n",
    "    lamd=50.0,\n",
    "    rho_a=1.25,\n",
    "    rho_w=1e3,\n",
    "    C_pa=1e3,\n",
    "    C_pw=4e3,\n",
    "    nu_a=5e-7,\n",
    "    eps=1e3,\n",
    "    B=2.5,\n",
    "    F=125.0,\n",
    "    S_a=5e-3,\n",
    "    f_0=1e-4,\n",
    "    beta=2e-11,\n",
    "    d_l=5822.785,\n",
    "    amp_noise=0.0,\n",
    "    amp_noise_theta_1=0.0,\n",
    "    amp_noise_theta_2=0.0,\n",
    ")\n",
    "\n",
    "config.save(\"GC01.yml\")\n",
    "_config = Kohyama21ModelConfig.load(\"GC01.yml\")\n",
    "assert config.__dict__ == _config.__dict__"
   ]
  },
  {
   "cell_type": "markdown",
   "id": "d2fb7139-8154-459d-ba0b-a6dc4b194182",
   "metadata": {},
   "source": [
    "# Run model"
   ]
  },
  {
   "cell_type": "code",
   "execution_count": null,
   "id": "b79025b6-7d5d-440f-8c2c-8d8d75331ccf",
   "metadata": {},
   "outputs": [],
   "source": [
    "# set_all_seeds(42)\n",
    "# experiment_name = \"KO21\"\n",
    "# config = Kohyama21ModelConfig.load(f\"{experiment_name}.yml\")\n",
    "# model = Kohyama21Model(config)"
   ]
  },
  {
   "cell_type": "code",
   "execution_count": null,
   "id": "dc438a26-39ba-4f84-8e02-c2dd2ccb2901",
   "metadata": {},
   "outputs": [],
   "source": [
    "set_all_seeds(42)\n",
    "experiment_name = \"GC01\"\n",
    "config = Kohyama21ModelConfig.load(f\"{experiment_name}.yml\")\n",
    "model = Kohyama21Model(config)"
   ]
  },
  {
   "cell_type": "code",
   "execution_count": null,
   "id": "d135245b-742d-406c-abb0-b2b4817a1753",
   "metadata": {},
   "outputs": [],
   "source": [
    "T1_out, T2_out = model.run_simulation()\n",
    "\n",
    "spinup_period = 12 * 20\n",
    "T1_out = T1_out[spinup_period:]\n",
    "T2_out = T2_out[spinup_period:]"
   ]
  },
  {
   "cell_type": "markdown",
   "id": "52f893e6-e967-4bfd-86c3-a0964e9cfebd",
   "metadata": {},
   "source": [
    "# Plot results"
   ]
  },
  {
   "cell_type": "code",
   "execution_count": null,
   "id": "c7ed3d16-a2ee-4b58-8c50-8877da0c6444",
   "metadata": {},
   "outputs": [],
   "source": [
    "ts = np.linspace(0.0, config.tmax_year, (config.nt // config.istep_out) + 1)\n",
    "ts = ts[spinup_period:]\n",
    "ys = copy.deepcopy(model.y) / 1e3\n",
    "ts, ys = np.meshgrid(ts, ys, indexing=\"ij\")\n",
    "\n",
    "vmin, vmax = np.quantile(T1_out.flatten(), 0.01), np.quantile(T1_out.flatten(), 0.99)\n",
    "\n",
    "plt.rcParams[\"font.size\"] = 18\n",
    "fig, axes = plt.subplots(1, 2, sharex=True, sharey=True, figsize=[12, 5])\n",
    "\n",
    "for ax, data, ttl in zip(\n",
    "    axes, [T1_out, T2_out], [r\"$T_{\\rm Pacific}$\", r\"$T_{\\rm Atlantic}$\"]\n",
    "):\n",
    "    cnt = ax.pcolormesh(ts, ys, data, vmin=vmin, vmax=vmax)\n",
    "    fig.colorbar(cnt, ax=ax)\n",
    "    ax.set_ylabel(\"North-South [km]\")\n",
    "    ax.set_xlabel(\"Time [yr]\")\n",
    "    ax.set_title(ttl)\n",
    "plt.suptitle(f\"{experiment_name=}\")\n",
    "plt.tight_layout()\n",
    "plt.show()"
   ]
  },
  {
   "cell_type": "code",
   "execution_count": null,
   "id": "b231a2d4-5dbd-4447-b390-4528abef5560",
   "metadata": {},
   "outputs": [],
   "source": [
    "ts = np.linspace(0.0, config.tmax_year, (config.nt // config.istep_out) + 1)\n",
    "ts = ts[spinup_period:]\n",
    "ys = copy.deepcopy(model.y) / 1e3\n",
    "\n",
    "vmin, vmax = np.quantile(T1_out.flatten(), 0.01), np.quantile(T1_out.flatten(), 0.99)\n",
    "sy, ey = 40, 60\n",
    "\n",
    "plt.rcParams[\"font.size\"] = 16\n",
    "fig, axes = plt.subplots(1, 2, sharex=True, sharey=True, figsize=[12, 5])\n",
    "\n",
    "for ax, data, ttl, c in zip(\n",
    "    axes,\n",
    "    [T1_out, T2_out],\n",
    "    [r\"$T_{\\rm Pacific}$\", r\"$T_{\\rm Atlantic}$\"],\n",
    "    [\"coral\", \"deepskyblue\"],\n",
    "):\n",
    "    ave = np.mean(data[:, sy:ey], axis=1)\n",
    "    ax.plot(ts, ave, color=c)\n",
    "    ax.set_ylabel(ttl)\n",
    "    ax.set_xlabel(\"Time [yr]\")\n",
    "    ax.set_title(f\"{ttl}\\n(average between y = {int(ys[sy])} ~ {int(ys[ey])} km)\")\n",
    "plt.suptitle(f\"{experiment_name=}\")\n",
    "plt.tight_layout()\n",
    "plt.show()"
   ]
  },
  {
   "cell_type": "code",
   "execution_count": null,
   "id": "572ab582-71a8-41ee-8c31-f5dac6306cc8",
   "metadata": {},
   "outputs": [],
   "source": [
    "sy, ey = 40, 60\n",
    "t1 = np.mean(T1_out[:, sy:ey], axis=1)\n",
    "t2 = np.mean(T2_out[:, sy:ey], axis=1)\n",
    "lags, cors = calculate_lag_corr(t1, t2, 12 * 20)\n",
    "\n",
    "lags = lags / 12  # to year\n",
    "\n",
    "plt.rcParams[\"font.size\"] = 15\n",
    "fig = plt.figure()\n",
    "plt.plot(lags, cors)\n",
    "plt.xlabel(\"Lag [yr]\")\n",
    "plt.ylabel(\"Corr.\")\n",
    "plt.axvline(0, ls=\"--\", color=\"k\")\n",
    "plt.axhline(0, ls=\"--\", color=\"k\")\n",
    "plt.suptitle(f\"{experiment_name=}\")\n",
    "plt.tight_layout()\n",
    "plt.show()"
   ]
  },
  {
   "cell_type": "code",
   "execution_count": null,
   "id": "212dfe8c-4d05-40a9-8baf-28d8d0388188",
   "metadata": {},
   "outputs": [],
   "source": []
  }
 ],
 "metadata": {
  "kernelspec": {
   "display_name": "Python 3 (ipykernel)",
   "language": "python",
   "name": "python3"
  },
  "language_info": {
   "codemirror_mode": {
    "name": "ipython",
    "version": 3
   },
   "file_extension": ".py",
   "mimetype": "text/x-python",
   "name": "python",
   "nbconvert_exporter": "python",
   "pygments_lexer": "ipython3",
   "version": "3.10.12"
  }
 },
 "nbformat": 4,
 "nbformat_minor": 5
}
